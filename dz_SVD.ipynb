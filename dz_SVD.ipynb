{
 "cells": [
  {
   "cell_type": "code",
   "execution_count": 1,
   "metadata": {},
   "outputs": [],
   "source": [
    "import numpy as np"
   ]
  },
  {
   "cell_type": "markdown",
   "metadata": {},
   "source": [
    "## квадратная матрица"
   ]
  },
  {
   "cell_type": "code",
   "execution_count": 2,
   "metadata": {},
   "outputs": [
    {
     "data": {
      "text/plain": [
       "array([[3, 7],\n",
       "       [5, 2]])"
      ]
     },
     "execution_count": 2,
     "metadata": {},
     "output_type": "execute_result"
    }
   ],
   "source": [
    "# исходная матрица\n",
    "A = np.array([[3,7], [5,2]])\n",
    "A"
   ]
  },
  {
   "cell_type": "code",
   "execution_count": 3,
   "metadata": {},
   "outputs": [
    {
     "data": {
      "text/plain": [
       "((2, 2), (2,), (2, 2))"
      ]
     },
     "execution_count": 3,
     "metadata": {},
     "output_type": "execute_result"
    }
   ],
   "source": [
    "# SVD разложение\n",
    "u, s, vt = np.linalg.svd(A, full_matrices=False)\n",
    "u.shape, s.shape, vt.shape"
   ]
  },
  {
   "cell_type": "code",
   "execution_count": 4,
   "metadata": {},
   "outputs": [
    {
     "name": "stdout",
     "output_type": "stream",
     "text": [
      "[[3. 7.]\n",
      " [5. 2.]]\n"
     ]
    }
   ],
   "source": [
    "# диагональная матрица \n",
    "D = np.diag(s)\n",
    "# восстановление матрицы\n",
    "print(np.dot(u, np.dot(D, vt)))"
   ]
  },
  {
   "cell_type": "markdown",
   "metadata": {},
   "source": [
    "### $$ n \\neq m $$"
   ]
  },
  {
   "cell_type": "code",
   "execution_count": 5,
   "metadata": {},
   "outputs": [
    {
     "data": {
      "text/plain": [
       "array([[1, 4, 2, 3, 2, 2, 4],\n",
       "       [3, 2, 2, 4, 2, 1, 4],\n",
       "       [4, 2, 4, 3, 0, 4, 0],\n",
       "       [3, 2, 3, 0, 4, 2, 3],\n",
       "       [1, 3, 3, 3, 4, 3, 2],\n",
       "       [0, 1, 0, 4, 2, 4, 3]])"
      ]
     },
     "execution_count": 5,
     "metadata": {},
     "output_type": "execute_result"
    }
   ],
   "source": [
    "n = 6\n",
    "m = 7\n",
    "X = np.random.randint(0, 5, size=(n, m))\n",
    "X"
   ]
  },
  {
   "cell_type": "code",
   "execution_count": 6,
   "metadata": {},
   "outputs": [
    {
     "data": {
      "text/plain": [
       "((6, 6), (6,), (7, 7))"
      ]
     },
     "execution_count": 6,
     "metadata": {},
     "output_type": "execute_result"
    }
   ],
   "source": [
    "u, s, vt = np.linalg.svd(X, full_matrices=True)\n",
    "u.shape, s.shape, vt.shape"
   ]
  },
  {
   "cell_type": "code",
   "execution_count": 7,
   "metadata": {},
   "outputs": [
    {
     "name": "stdout",
     "output_type": "stream",
     "text": [
      "[[ 1.  4.  2.  3.  2.  2.  4.]\n",
      " [ 3.  2.  2.  4.  2.  1.  4.]\n",
      " [ 4.  2.  4.  3.  0.  4.  0.]\n",
      " [ 3.  2.  3. -0.  4.  2.  3.]\n",
      " [ 1.  3.  3.  3.  4.  3.  2.]\n",
      " [ 0.  1.  0.  4.  2.  4.  3.]]\n"
     ]
    }
   ],
   "source": [
    "# диагональная матрица \n",
    "sig = np.zeros(X.shape)\n",
    "sig[:X.shape[0], :X.shape[0]] = np.diag(s)\n",
    "# восстановление матрицы\n",
    "sig\n",
    "B = u.dot(sig.dot(vt))\n",
    "print(np.around(B))"
   ]
  },
  {
   "cell_type": "markdown",
   "metadata": {},
   "source": [
    "## понижение ранга матрицы и сравнение с оригинальной матрицой"
   ]
  },
  {
   "cell_type": "code",
   "execution_count": 8,
   "metadata": {},
   "outputs": [
    {
     "data": {
      "text/plain": [
       "0.5212286788661471"
      ]
     },
     "execution_count": 8,
     "metadata": {},
     "output_type": "execute_result"
    }
   ],
   "source": [
    "factor = 5\n",
    "D = np.diag(s[:factor])\n",
    "np.max(X- np.dot(u[:,:factor], np.dot(D, vt[:factor:])))"
   ]
  },
  {
   "cell_type": "code",
   "execution_count": 9,
   "metadata": {},
   "outputs": [
    {
     "data": {
      "text/plain": [
       "1.3834314561570125"
      ]
     },
     "execution_count": 9,
     "metadata": {},
     "output_type": "execute_result"
    }
   ],
   "source": [
    "factor = 3\n",
    "D = np.diag(s[:factor])\n",
    "np.max(X- np.dot(u[:,:factor], np.dot(D, vt[:factor:])))"
   ]
  },
  {
   "cell_type": "markdown",
   "metadata": {},
   "source": [
    "## редуцирование"
   ]
  },
  {
   "cell_type": "code",
   "execution_count": 10,
   "metadata": {},
   "outputs": [
    {
     "data": {
      "text/plain": [
       "(6, 7)"
      ]
     },
     "execution_count": 10,
     "metadata": {},
     "output_type": "execute_result"
    }
   ],
   "source": [
    "X.shape"
   ]
  },
  {
   "cell_type": "code",
   "execution_count": 11,
   "metadata": {},
   "outputs": [
    {
     "data": {
      "text/plain": [
       "(6, 4)"
      ]
     },
     "execution_count": 11,
     "metadata": {},
     "output_type": "execute_result"
    }
   ],
   "source": [
    "elements = 4\n",
    "sig = sig[:, :elements]\n",
    "vt = vt[:elements, :]\n",
    "\n",
    "T = u.dot(sig)\n",
    "T.shape"
   ]
  },
  {
   "cell_type": "code",
   "execution_count": null,
   "metadata": {},
   "outputs": [],
   "source": []
  }
 ],
 "metadata": {
  "kernelspec": {
   "display_name": "Python 3",
   "language": "python",
   "name": "python3"
  },
  "language_info": {
   "codemirror_mode": {
    "name": "ipython",
    "version": 3
   },
   "file_extension": ".py",
   "mimetype": "text/x-python",
   "name": "python",
   "nbconvert_exporter": "python",
   "pygments_lexer": "ipython3",
   "version": "3.7.3"
  }
 },
 "nbformat": 4,
 "nbformat_minor": 2
}
