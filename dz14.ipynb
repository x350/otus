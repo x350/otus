{
 "cells": [
  {
   "cell_type": "code",
   "execution_count": 1,
   "metadata": {},
   "outputs": [],
   "source": [
    "import numpy as np\n",
    "from sklearn.linear_model import LinearRegression\n",
    "from sklearn.preprocessing import StandardScaler\n"
   ]
  },
  {
   "cell_type": "code",
   "execution_count": 16,
   "metadata": {},
   "outputs": [],
   "source": [
    "# y = a0 + a1*x1 + a2*x2 + ... + an*xn. "
   ]
  },
  {
   "cell_type": "code",
   "execution_count": 17,
   "metadata": {},
   "outputs": [],
   "source": [
    "class lin_reg:\n",
    "    \n",
    "    def __init__(self):\n",
    "        self.a = None\n",
    "        self.b = None\n",
    "        \n",
    "    def fit(self,X, y):\n",
    "        X = np.asarray(X)\n",
    "        y = np.asarray(y)\n",
    "        \n",
    "        z= np.zeros((X.shape[0],1))\n",
    "        z[:,:]=1\n",
    "        X_a0 = np.concatenate((z,X), axis=1)\n",
    "        coef = np.linalg.inv(np.dot(X_a0.T,X_a0)).dot(X_a0.T).dot(y)\n",
    "        self.a = coef[0]\n",
    "        self.b = coef[1:]\n",
    "        \n",
    "    def predict(self,X):\n",
    "        if (self.a == None and self.b == None):\n",
    "            print('you mгst use the fit method first')\n",
    "            return\n",
    "        if X.shape[1] != self.b.shape[0]:\n",
    "            print('Wrong shape X')\n",
    "        return self.a + np.dot(X, self.b)\n",
    "    "
   ]
  },
  {
   "cell_type": "code",
   "execution_count": 18,
   "metadata": {},
   "outputs": [],
   "source": [
    "X = np.array([[1, 3, 2], [1, 2, 4], [2, 1, 5], [2, 3, 6]])\n",
    "y = np.dot(X, np.array([1, 2, 3])) + 3"
   ]
  },
  {
   "cell_type": "code",
   "execution_count": 19,
   "metadata": {},
   "outputs": [
    {
     "name": "stdout",
     "output_type": "stream",
     "text": [
      "[[1 3 2]\n",
      " [1 2 4]\n",
      " [2 1 5]\n",
      " [2 3 6]]\n",
      "[16 20 22 29]\n"
     ]
    }
   ],
   "source": [
    "print(X)\n",
    "print(y)"
   ]
  },
  {
   "cell_type": "code",
   "execution_count": 20,
   "metadata": {},
   "outputs": [],
   "source": [
    "model = lin_reg()\n",
    "model.fit(X,y)"
   ]
  },
  {
   "cell_type": "code",
   "execution_count": 21,
   "metadata": {},
   "outputs": [
    {
     "name": "stdout",
     "output_type": "stream",
     "text": [
      "3.0000000000002807\n",
      "[1. 2. 3.]\n"
     ]
    }
   ],
   "source": [
    "print(model.a)\n",
    "print(model.b)"
   ]
  },
  {
   "cell_type": "code",
   "execution_count": 22,
   "metadata": {},
   "outputs": [
    {
     "data": {
      "text/plain": [
       "array([16., 20., 22., 29.])"
      ]
     },
     "execution_count": 22,
     "metadata": {},
     "output_type": "execute_result"
    }
   ],
   "source": [
    "model.predict(X)"
   ]
  },
  {
   "cell_type": "markdown",
   "metadata": {},
   "source": [
    "## Проверка"
   ]
  },
  {
   "cell_type": "code",
   "execution_count": 23,
   "metadata": {},
   "outputs": [
    {
     "data": {
      "text/plain": [
       "array([16., 20., 22., 29.])"
      ]
     },
     "execution_count": 23,
     "metadata": {},
     "output_type": "execute_result"
    }
   ],
   "source": [
    "modelLR = LinearRegression()\n",
    "modelLR.fit(X, y)\n",
    "modelLR.predict(X)"
   ]
  },
  {
   "cell_type": "code",
   "execution_count": 24,
   "metadata": {},
   "outputs": [
    {
     "name": "stdout",
     "output_type": "stream",
     "text": [
      "3.0000000000000036\n",
      "[1. 2. 3.]\n"
     ]
    }
   ],
   "source": [
    "print(modelLR.intercept_)\n",
    "print(modelLR.coef_)"
   ]
  },
  {
   "cell_type": "code",
   "execution_count": 25,
   "metadata": {},
   "outputs": [],
   "source": [
    "## Замечения - проблемы могут возникнуть при вычислении обратной матрицы, \n",
    "## для вычисления больших матриц, надо придумывать что-то получше."
   ]
  },
  {
   "cell_type": "markdown",
   "metadata": {},
   "source": [
    "## Используя  StandardScaler"
   ]
  },
  {
   "cell_type": "code",
   "execution_count": 26,
   "metadata": {},
   "outputs": [
    {
     "name": "stderr",
     "output_type": "stream",
     "text": [
      "/home/x350/anaconda3/lib/python3.7/site-packages/sklearn/utils/validation.py:595: DataConversionWarning: Data with input dtype int64 was converted to float64 by StandardScaler.\n",
      "  warnings.warn(msg, DataConversionWarning)\n",
      "/home/x350/anaconda3/lib/python3.7/site-packages/sklearn/utils/validation.py:595: DataConversionWarning: Data with input dtype int64 was converted to float64 by StandardScaler.\n",
      "  warnings.warn(msg, DataConversionWarning)\n"
     ]
    }
   ],
   "source": [
    "scaler =  StandardScaler()\n",
    "X_scaler = scaler.fit_transform(X)"
   ]
  },
  {
   "cell_type": "code",
   "execution_count": 27,
   "metadata": {},
   "outputs": [
    {
     "name": "stdout",
     "output_type": "stream",
     "text": [
      "[[-1.          0.90453403 -1.52127766]\n",
      " [-1.         -0.30151134 -0.16903085]\n",
      " [ 1.         -1.50755672  0.50709255]\n",
      " [ 1.          0.90453403  1.18321596]]\n",
      "[16 20 22 29]\n"
     ]
    }
   ],
   "source": [
    "print(X_scaler)\n",
    "print(y)"
   ]
  },
  {
   "cell_type": "code",
   "execution_count": 28,
   "metadata": {},
   "outputs": [
    {
     "data": {
      "text/plain": [
       "array([16., 20., 22., 29.])"
      ]
     },
     "execution_count": 28,
     "metadata": {},
     "output_type": "execute_result"
    }
   ],
   "source": [
    "model = lin_reg()\n",
    "model.fit(X_scaler,y)\n",
    "model.predict(X_scaler)"
   ]
  },
  {
   "cell_type": "code",
   "execution_count": 29,
   "metadata": {},
   "outputs": [
    {
     "data": {
      "text/plain": [
       "array([16., 20., 22., 29.])"
      ]
     },
     "execution_count": 29,
     "metadata": {},
     "output_type": "execute_result"
    }
   ],
   "source": [
    "model_lin = LinearRegression()\n",
    "model_lin.fit(X_scaler, y)\n",
    "model_lin.predict(X_scaler)"
   ]
  },
  {
   "cell_type": "code",
   "execution_count": null,
   "metadata": {},
   "outputs": [],
   "source": []
  }
 ],
 "metadata": {
  "kernelspec": {
   "display_name": "Python 3",
   "language": "python",
   "name": "python3"
  },
  "language_info": {
   "codemirror_mode": {
    "name": "ipython",
    "version": 3
   },
   "file_extension": ".py",
   "mimetype": "text/x-python",
   "name": "python",
   "nbconvert_exporter": "python",
   "pygments_lexer": "ipython3",
   "version": "3.7.3"
  }
 },
 "nbformat": 4,
 "nbformat_minor": 2
}
