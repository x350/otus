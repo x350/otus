{
 "cells": [
  {
   "cell_type": "code",
   "execution_count": 8,
   "metadata": {},
   "outputs": [],
   "source": [
    "from numpy.random import random"
   ]
  },
  {
   "cell_type": "code",
   "execution_count": 31,
   "metadata": {},
   "outputs": [],
   "source": [
    "# Берется квадрат, со сторой a, и в него вписывается круг, радиусом R\n",
    "# a = 2R, центр круга в точке (0,0), будем рассматривать первый квадрант.\n",
    "# соотношение площадей круга и квадрата = pi*R^2/a^2 = pi*R^2/(2*R^2) = pi/4\n",
    "# pi = 4 * N_circle/N_common"
   ]
  },
  {
   "cell_type": "code",
   "execution_count": 34,
   "metadata": {},
   "outputs": [],
   "source": [
    "def bound_circle(x, R):\n",
    "    return R * R - x * x\n",
    "\n",
    "def pi_in_monte_carlo(N_iter):\n",
    "    R = 1\n",
    "    N_circle = 0\n",
    "    N_common = 0\n",
    "    for _ in range(N_iter):\n",
    "        x = random()\n",
    "        y = random()\n",
    "        N_common += 1\n",
    "        if y*y < bound_circle(x, R):\n",
    "            N_circle += 1\n",
    "            \n",
    "    return 4 * N_circle / N_common           \n",
    "    "
   ]
  },
  {
   "cell_type": "code",
   "execution_count": 36,
   "metadata": {},
   "outputs": [
    {
     "data": {
      "text/plain": [
       "3.142008"
      ]
     },
     "execution_count": 36,
     "metadata": {},
     "output_type": "execute_result"
    }
   ],
   "source": [
    "N_iter = 1000000\n",
    "pi_in_monte_carlo(N_iter)"
   ]
  },
  {
   "cell_type": "code",
   "execution_count": null,
   "metadata": {},
   "outputs": [],
   "source": []
  }
 ],
 "metadata": {
  "kernelspec": {
   "display_name": "Python 3",
   "language": "python",
   "name": "python3"
  },
  "language_info": {
   "codemirror_mode": {
    "name": "ipython",
    "version": 3
   },
   "file_extension": ".py",
   "mimetype": "text/x-python",
   "name": "python",
   "nbconvert_exporter": "python",
   "pygments_lexer": "ipython3",
   "version": "3.7.3"
  }
 },
 "nbformat": 4,
 "nbformat_minor": 2
}
