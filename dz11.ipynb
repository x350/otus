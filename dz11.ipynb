{
 "cells": [
  {
   "cell_type": "code",
   "execution_count": 1,
   "metadata": {},
   "outputs": [],
   "source": [
    "from scipy.stats import norm\n",
    "from scipy.stats import rankdata\n",
    "import math \n",
    "import numpy as np"
   ]
  },
  {
   "cell_type": "code",
   "execution_count": 2,
   "metadata": {},
   "outputs": [],
   "source": [
    "# с учетом поправки на непрерывность.\n",
    "\n",
    "def compare_two_probab(n1, n2, m1, m2, a, H_a):\n",
    "    if ((type(n1) != int) or (type(n2) != int) or (type(m1) != int) or (type(m2) != int)):\n",
    "        return ('Неправильный тип введенных данных')\n",
    "    if type(a) != float:\n",
    "        return ('Неправильный тип введенных данных')\n",
    "    if H_a not in ('!=', '<', '>'):\n",
    "        return ('Неправильно введенные данные H_a')\n",
    "    \n",
    "    p = (m1 + m2)/(n1 + n2)\n",
    "    U_view = round(((m1/n1 - 1/(2*n1))-(m2/n2 + 1/(2*n2)))/math.sqrt(p*(1-p)*(1/n1+1/n2)) ,2)\n",
    "#     P_val = round((1-norm.cdf(U_view)), 2)\n",
    "    P_val = round(norm.sf(abs(U_view)), 4)  \n",
    "    \n",
    "    if H_a == '!=':\n",
    "        F_u = (1 - a) / 2\n",
    "        U_crit = round(norm.ppf(F_u + 0.5), 2)\n",
    "        if (abs(U_view) < U_crit):\n",
    "            return f'На уровне значимости {a}, нет оснований отвергать H0, U_view = {abs(U_view)}, P_val = {P_val}'\n",
    "        else:    \n",
    "            return f'На уровне значимости {a}, H0 отвергается и принимается Ha, U_view = {abs(U_view)}, P_val = {P_val}'\n",
    "        \n",
    "    if H_a == '>':\n",
    "        F_u = (1 - 2 * a) / 2\n",
    "        U_crit = round(norm.ppf(F_u + 0.5), 2)\n",
    "        if (U_view < U_crit):\n",
    "            return f'На уровне значимости {a}, нет оснований отвергать H0, U_view = {U_view}, P_val = {P_val}' \n",
    "        else:    \n",
    "            return f'На уровне значимости {a}, H0 отвергается и принимается Ha, U_view = {U_view}, P_val = {P_val}'\n",
    "            \n",
    "    if H_a == '<':\n",
    "        F_u = (1 - 2 * a) / 2\n",
    "        U_crit = round(norm.ppf(F_u + 0.5), 2) * (-1)\n",
    "        if (U_view > U_crit):\n",
    "            return f'На уровне значимости {a}, нет оснований отвергать H0, U_view = {U_view}, P_val = {P_val}'\n",
    "        else:    \n",
    "            return f'На уровне значимости {a}, H0 отвергается и принимается Ha, U_view = {U_view}, P_val = {P_val}'\n",
    "    "
   ]
  },
  {
   "cell_type": "code",
   "execution_count": 3,
   "metadata": {},
   "outputs": [],
   "source": [
    "def vilcoxon(x,y, a, H_a):\n",
    "    x = np.asarray(x)\n",
    "    y = np.asarray(y)\n",
    "    \n",
    "    n1 = len(x)\n",
    "    n2 = len(y)\n",
    "    line = np.concatenate((x, y), axis=0)\n",
    "    line_sorted = rankdata(line)\n",
    "    \n",
    "    M_w = n1 / 2 * (n1 + n2 + 1)\n",
    "    D_w = n1 * n2 / 12 * (n1 + n2 + 1)\n",
    "    W = sum(line_sorted[:n1])\n",
    "    W_view = round((W - M_w)/math.sqrt(D_w), 2)\n",
    "    \n",
    "    P_val = round(norm.sf(abs(W_view)), 4)  \n",
    "    \n",
    "    if H_a == '!=':\n",
    "        F_u = (1 - a) / 2\n",
    "        W_crit = round(norm.ppf(F_u + 0.5), 2)\n",
    "        if (abs(W_view) < W_crit):\n",
    "            return f'На уровне значимости {a}, нет оснований отвергать H0, W_view = {abs(W_view)}, P_val = {P_val}'\n",
    "        else:    \n",
    "            return f'На уровне значимости {a}, H0 отвергается и принимается Ha, W_view = {abs(W_view)}, P_val = {P_val}'\n",
    "        \n",
    "    if H_a == '>':\n",
    "        F_u = (1 - 2 * a) / 2\n",
    "        W_crit = round(norm.ppf(F_u + 0.5), 2)\n",
    "        if (W_view < W_crit):\n",
    "            return f'На уровне значимости {a}, нет оснований отвергать H0, W_view = {W_view}, P_val = {P_val}' \n",
    "        else:    \n",
    "            return f'На уровне значимости {a}, H0 отвергается и принимается Ha, W_view = {W_view}, P_val = {P_val}'\n",
    "            \n",
    "    if H_a == '<':\n",
    "        F_u = (1 - 2 * a) / 2\n",
    "        W_crit = round(norm.ppf(F_u + 0.5), 2) * -1\n",
    "        if (W_view > W_crit):\n",
    "            return f'На уровне значимости {a}, нет оснований отвергать H0, W_view = {W_view}, P_val = {P_val}'\n",
    "        else:    \n",
    "            return f'На уровне значимости {a}, H0 отвергается и принимается Ha, W_view = {W_view}, P_val = {P_val}'\n",
    "    \n",
    "    \n",
    "    \n",
    "    \n",
    "    "
   ]
  },
  {
   "cell_type": "code",
   "execution_count": 4,
   "metadata": {},
   "outputs": [
    {
     "data": {
      "text/plain": [
       "'На уровне значимости 0.05, нет оснований отвергать H0, U_view = 1.02, P_val = 0.1539'"
      ]
     },
     "execution_count": 4,
     "metadata": {},
     "output_type": "execute_result"
    }
   ],
   "source": [
    "# задача № 1\n",
    "n1 = 105\n",
    "n2 = 195\n",
    "m1 = 42\n",
    "m2 = 65\n",
    "a = 0.05\n",
    "H_a = '!='\n",
    "\n",
    "compare_two_probab(n1, n2, m1, m2, a, H_a)"
   ]
  },
  {
   "cell_type": "code",
   "execution_count": 5,
   "metadata": {},
   "outputs": [
    {
     "data": {
      "text/plain": [
       "'На уровне значимости 0.05, H0 отвергается и принимается Ha, U_view = -4.92, P_val = 0.0'"
      ]
     },
     "execution_count": 5,
     "metadata": {},
     "output_type": "execute_result"
    }
   ],
   "source": [
    "# задача № 2\n",
    "n1 = 175\n",
    "n2 = 200\n",
    "m1 = 3\n",
    "m2 = 32\n",
    "a = 0.05\n",
    "H_a = '<'\n",
    "\n",
    "compare_two_probab(n1, n2, m1, m2, a, H_a)"
   ]
  },
  {
   "cell_type": "code",
   "execution_count": 6,
   "metadata": {},
   "outputs": [
    {
     "data": {
      "text/plain": [
       "'На уровне значимости 0.05, нет оснований отвергать H0, W_view = 0.33, P_val = 0.3707'"
      ]
     },
     "execution_count": 6,
     "metadata": {},
     "output_type": "execute_result"
    }
   ],
   "source": [
    "# задача № 3\n",
    "x = [130, 110, 120, 140, 200, 130, 140, 170, 160, 140]\n",
    "y = [120, 190, 130, 160, 150, 120, 110, 120, 200]\n",
    "a = 0.05\n",
    "\n",
    "vilcoxon(x, y, 0.05, '>')"
   ]
  },
  {
   "cell_type": "code",
   "execution_count": 7,
   "metadata": {},
   "outputs": [
    {
     "data": {
      "text/plain": [
       "'На уровне значимости 0.05, нет оснований отвергать H0, W_view = 1.07, P_val = 0.1423'"
      ]
     },
     "execution_count": 7,
     "metadata": {},
     "output_type": "execute_result"
    }
   ],
   "source": [
    "# задача № 4\n",
    "x = [102.4, 100.0, 67.6, 65.9, 64.7, 39.6, 31.2]\n",
    "y = [48.1, 45.5, 41.7, 35.4, 29.1, 18.9, 58.3, 68.8, 71.3, 94.3]\n",
    "a = 0.05\n",
    "\n",
    "vilcoxon(x, y, 0.05, '!=')"
   ]
  },
  {
   "cell_type": "code",
   "execution_count": null,
   "metadata": {},
   "outputs": [],
   "source": []
  }
 ],
 "metadata": {
  "kernelspec": {
   "display_name": "Python 3",
   "language": "python",
   "name": "python3"
  },
  "language_info": {
   "codemirror_mode": {
    "name": "ipython",
    "version": 3
   },
   "file_extension": ".py",
   "mimetype": "text/x-python",
   "name": "python",
   "nbconvert_exporter": "python",
   "pygments_lexer": "ipython3",
   "version": "3.7.3"
  }
 },
 "nbformat": 4,
 "nbformat_minor": 2
}
