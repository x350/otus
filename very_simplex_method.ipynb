{
 "cells": [
  {
   "cell_type": "markdown",
   "metadata": {},
   "source": [
    "# Линейное программирование и симплекс-метод"
   ]
  },
  {
   "cell_type": "markdown",
   "metadata": {},
   "source": [
    "Линейное программирование - метод оптимизации моделей, в которых целевые функции и ограничения строго линейны."
   ]
  },
  {
   "cell_type": "markdown",
   "metadata": {},
   "source": [
    "Основная задача линейного программирования (ОЗЛП)-\n",
    "найти неотрицательные значения переменных  x1, x2, x3 ... xn, которые бы удовлетворяли условиям-равенствам,   \n",
    "      и обращали бы в максимум(минимум) линейную функцию этих переменных"
   ]
  },
  {
   "cell_type": "markdown",
   "metadata": {},
   "source": [
    "## Графическое решение и симплекс-метод"
   ]
  },
  {
   "cell_type": "markdown",
   "metadata": {},
   "source": [
    "###  Целевая функция\n",
    "Например:  \n",
    "z = 5 * x1 + 4 * x2  "
   ]
  },
  {
   "cell_type": "markdown",
   "metadata": {},
   "source": [
    "### Ограничения\n",
    "Например:  \n",
    "6 * x1 + 4 * x2 <= 24;  \n",
    "x1 + 2 * x2 <= 6  \n",
    "-x1 + x2 <= 1  \n",
    "x2 <= 2  \n",
    "x1 >= 0  \n",
    "x2 >= 0"
   ]
  },
  {
   "cell_type": "markdown",
   "metadata": {},
   "source": [
    "Все ограничения преобразуются в равенства с неотрицательной правой частью.  \n",
    "Все переменные неотрицательные.  \n",
    "Неравенства любого типа, преобразуются в равенства, путем добавления в левую часть дополнительных переменных -  \n",
    "остаточных(при '<=') или избыточных(при '>=' ).  \n",
    "Иногда, переменная может принимать отрицательное значение, тогда она заменяется двумя неотрицательными переменными  \n",
    "(например - число нанятых  и уволенных сотрудников)"
   ]
  },
  {
   "cell_type": "markdown",
   "metadata": {},
   "source": [
    "В нашем примере, получается:  \n",
    "6*x1 + 4*x2 + 1*x3 = 24  \n",
    "1*x1 + 2*x2 + 1*x4 = 6\n",
    "-1*x1 + 1*x2 + 1*x5 = 1\n",
    "Целевая функция:  \n",
    "z = 5 * x1 + 4 * x2;  z -> max."
   ]
  },
  {
   "cell_type": "code",
   "execution_count": 1,
   "metadata": {},
   "outputs": [],
   "source": [
    "import numpy as np\n",
    "import time\n",
    "np.set_printoptions(suppress=True)"
   ]
  },
  {
   "cell_type": "code",
   "execution_count": 2,
   "metadata": {},
   "outputs": [],
   "source": [
    "a = np.array([[ 6,  4, 1, 0, 0, 0],\n",
    "              [ 1,  2, 0, 1, 0, 0],\n",
    "              [-1,  1, 0, 0, 1, 0],\n",
    "              [ 0,  1, 0, 0, 0, 1]], dtype=float)\n",
    "b = np.array([[24], [6], [1], [2]], dtype=float)\n",
    "c = np.array([[5], [4], [0], [0], [0], [0]], dtype=float)"
   ]
  },
  {
   "cell_type": "markdown",
   "metadata": {},
   "source": [
    "### симплекс-таблица выглядит так:"
   ]
  },
  {
   "cell_type": "code",
   "execution_count": 3,
   "metadata": {},
   "outputs": [
    {
     "data": {
      "text/plain": [
       "array([[ 6.,  4.,  1.,  0.,  0.,  0., 24.],\n",
       "       [ 1.,  2.,  0.,  1.,  0.,  0.,  6.],\n",
       "       [-1.,  1.,  0.,  0.,  1.,  0.,  1.],\n",
       "       [ 0.,  1.,  0.,  0.,  0.,  1.,  2.],\n",
       "       [ 5.,  4.,  0.,  0.,  0.,  0.,  0.]])"
      ]
     },
     "execution_count": 3,
     "metadata": {},
     "output_type": "execute_result"
    }
   ],
   "source": [
    "np.concatenate((np.concatenate((a, b), axis=1), np.concatenate((c, [[0]])).T))"
   ]
  },
  {
   "cell_type": "markdown",
   "metadata": {},
   "source": [
    "матрица ограничений A mxn  m < n  \n",
    "A * x = b  \n",
    "все базисные решения Cmxn = n!/m!(n-m)!  \n",
    "В данном случае:  \n",
    "С5x2 = 5!/2!*(5 - 2)! = 10\n",
    "10 - всего базисных решений, допустимых и недопустимых.\n",
    "В приведенном ниже графическом методе - допустимые базисные решения - \n",
    "решения в точках:(0,0), (0,1), (1,2), (2,2), (3,1.5), (4,0)  \n",
    "недопустимые: (6,0), (0,2), (0,3), (0, 6)"
   ]
  },
  {
   "cell_type": "code",
   "execution_count": 4,
   "metadata": {},
   "outputs": [],
   "source": [
    "import matplotlib.pyplot as plt\n",
    "%matplotlib inline\n"
   ]
  },
  {
   "cell_type": "markdown",
   "metadata": {},
   "source": [
    "### Ограничения  \n",
    "\n",
    "6 * x1 + 4 * x2 <= 24;  \n",
    "x1 + 2 * x2 <= 6  \n",
    "-x1 + x2 <= 1  \n",
    "x2 <= 2  \n",
    "x1 >= 0  \n",
    "x2 >= 0"
   ]
  },
  {
   "cell_type": "markdown",
   "metadata": {},
   "source": [
    "### Целевая функция\n",
    "\n",
    "z = 5 * x1 + 4 * x2  \n"
   ]
  },
  {
   "cell_type": "markdown",
   "metadata": {},
   "source": [
    "### В \"двумерном\" случае, можно использовать графический метод"
   ]
  },
  {
   "cell_type": "markdown",
   "metadata": {},
   "source": [
    "### графическим методом можно продемонстрировать основные положения и используемые понятия симплекс-метода"
   ]
  },
  {
   "cell_type": "code",
   "execution_count": 5,
   "metadata": {},
   "outputs": [],
   "source": [
    "x = np.arange(0, 7, 1)\n",
    "y = 6 - 1.5 * x\n",
    "y1 = 3 - 0.5 * x\n",
    "y2 = 1 + x\n",
    "y3 = (21 - 5 * x) / 4\n",
    "y4 = (13 - 5 * x) / 4\n",
    "y5 = (18 - 5 * x) / 4"
   ]
  },
  {
   "cell_type": "code",
   "execution_count": 6,
   "metadata": {},
   "outputs": [
    {
     "data": {
      "text/plain": [
       "<matplotlib.collections.PathCollection at 0x7f9a47f49470>"
      ]
     },
     "execution_count": 6,
     "metadata": {},
     "output_type": "execute_result"
    },
    {
     "data": {
      "image/png": "[encoded data removed]",
      "text/plain": [
       "<Figure size 720x576 with 1 Axes>"
      ]
     },
     "metadata": {
      "needs_background": "light"
     },
     "output_type": "display_data"
    }
   ],
   "source": [
    "axes = plt.gca() \n",
    "axes.set_xlim([0, 6]) \n",
    "axes.set_ylim([0, 6]) \n",
    "axes.set_xlabel('X1')\n",
    "axes.set_ylabel('X2')\n",
    "fig = plt.gcf()\n",
    "fig.set_size_inches(10, 8)\n",
    "\n",
    "plt.plot(x, y, c='g')\n",
    "plt.arrow(1, 4.5, -0.5, -0.6, head_width=0.1, head_length=0.3)\n",
    "plt.axhline(2, c='g')\n",
    "plt.arrow(5, 2, 0, -0.5, head_width=0.1, head_length=0.3)\n",
    "plt.plot(x, y1, c='g')\n",
    "plt.arrow(0.75, 2.625, -0.08, -0.2, head_width=0.1, head_length=0.3)\n",
    "plt.plot(x, y2, c='g')\n",
    "plt.arrow(3, 4, 0.3, -0.4, head_width=0.1, head_length=0.3)\n",
    "xx = [0, 1, 2, 3, 4]\n",
    "yy = [1, 2, 2,1.5, 0]\n",
    "plt.fill_between(xx, yy, color='grey')\n",
    "plt.plot(x, y3, c='red')\n",
    "plt.arrow(1.6, 3.25, 0.4, 0.5, head_width=0.1, head_length=0.3, color=\"red\")\n",
    "plt.plot(x, y4, 'r--')\n",
    "plt.plot(x, y5, 'r--')\n",
    "plt.scatter(2, 2, s=70, c='r')\n",
    "plt.scatter(4, 0, s=100, c='r')\n",
    "plt.scatter(3, 1.5, s=70, c='r')\n",
    "plt.scatter(0, 0, s=240, c='r')\n",
    "plt.scatter(0, 1, s=100, c='r')\n",
    "plt.scatter(1, 2, s=70, c='r')"
   ]
  },
  {
   "cell_type": "code",
   "execution_count": 7,
   "metadata": {},
   "outputs": [],
   "source": [
    "# серая область - область допустимых значений.\n",
    "# Зеленые линии - ограничения\n",
    "# Красная линия - целевая функция, оптимальное значение\n",
    "# Пунктирная красная линия - целевая функция при разных базисных значениях x1 и x2\n",
    "# Красные точки - базисные решения\n",
    "# в дальнейшем, будет приведен расчет данного примера модифицированным симплекс-методом, \n",
    "# но к оптимальному значению целевая функция будет следовать \"другим путем\", \n",
    "# по базисным решениям (x1, x2), принимающим значения (0,0), (0,4), (3, 1.5)"
   ]
  },
  {
   "cell_type": "markdown",
   "metadata": {},
   "source": [
    "Разновидности симплекс-метода.      \n",
    "Приблизительная классификация:   \n",
    "1) По критериям оптимальности, подразделяется на:   \n",
    "    - классический, метод Данцинга. (вводится та переменная, которая дает наиболее предпочтительную приведенную стоимость, среди всех небазисных переменных).  \n",
    "    - алгоритм наибольшего улучшения. (вводится та переменная, которая дает наибольшее суммарное улучшение объективной функции, среди всех небазисных переменных). \n",
    "    - метод наиболее крутого ребра.(вводится та переменная, которая дает наилучшую приведенную стоимость, среди всех небазисных переменных). \n",
    "    - гибридный метод(на первых итерациях - классический метод,   \n",
    "                      с возрастанием числа итераций - метод наиболее крутого ребра).  \n",
    "2) По критериям допустимости:  \n",
    "    - Прямой симплекс-алгоритм.  \n",
    "        (Начальное базисное решение всегда допустимое, но не оптимальное, успешно выполненные итерации   \n",
    "        сохраняют условие допустимости и обеспечивают продвижение в направлении оптимума).\n",
    "    - Двойственный симплекс-алгоритм.\n",
    "        (Начинается с недопустимого решения, но лучшего, чем оптимальное, и предполагает движение в направлении  \n",
    "        достижения допустимости, при сохранении оптимальности).  \n",
    "        В сочетании с методом наиболее крутого ребра - один из наиболее популярных методов.  \n",
    "3) По способу построения симплекс-таблицы:\n",
    "    - Табличный метод ( Построение симплекс-таблицы, на основании таблицы, из предыдущей итерации.  \n",
    "        Не использует разреженность матриц, накапливаются ошибки округления, большее количество вычислений).\n",
    "    - Модифицированный симплекс-алгоритм.(Вычисления, с использованием матричной алгебры.)  \n",
    "4) Барьерный метод, или алгоритм внутренней точки (метод Кармаркара).\n",
    "        - (в отличие от симплекс-алгоритма, движение к оптимуму (в пределе),   \n",
    "        выполняется по внутренним областям пространства допустимых решений.\n",
    "        Имеет полиномиальную сложность, симплекс-алгоритмы - экспоненциальную.  \n",
    "        Не ищет угловые точки пространства допустимых решений - используется, в основном, для анализа   \n",
    "        чувствительности оптимального решения и целочисленного программирования."
   ]
  },
  {
   "cell_type": "markdown",
   "metadata": {},
   "source": [
    "Желательна, предварительная обработка исходных данных, с целью:\n",
    "    - сокращения размеров модели, за счет выявления и удаления избыточных ограничений, подстановки переменных.   \n",
    "    - Масштабирование коэффициентов модели."
   ]
  },
  {
   "cell_type": "markdown",
   "metadata": {},
   "source": [
    "##### Будет реализован табличный симплекс-метод, основанный на методе последовательного исключения переменных методом Жордана-Гаусса. Дано краткое объяснение симплекс-метода. Данный метод будет реализован без использования библиотеки  numpy, отдельно для минимизации и максимизации целевой функции( совместно, будет реализовано в модифицированном симплекс-методе). Затем будет реализован модифицированный симплекс-метод, с использованием numpy. На примере модифицированного симплес метода будет показано использование искусственных переменных, в Двухэтапном методе."
   ]
  },
  {
   "cell_type": "markdown",
   "metadata": {},
   "source": [
    "## Табличный симплекс метод"
   ]
  },
  {
   "cell_type": "markdown",
   "metadata": {},
   "source": [
    "ПРИМЕР:  \n",
    "Имеем следующие ограничения. (преобразование неравенств в равенства - см. выше)   \n",
    "6*x1 + 4*x2 + 1*x3 = 24  \n",
    "1*x1 + 2*x2 + 1*x4 = 6\n",
    "-1*x1 + 1*x2 + 1*x5 = 1\n",
    "Целевая функция:  \n",
    "z = 5 * x1 + 4 * x2;  z -> max."
   ]
  },
  {
   "cell_type": "code",
   "execution_count": 8,
   "metadata": {},
   "outputs": [
    {
     "data": {
      "text/plain": [
       "array([[ 6.,  4.,  1.,  0.,  0.,  0., 24.],\n",
       "       [ 1.,  2.,  0.,  1.,  0.,  0.,  6.],\n",
       "       [-1.,  1.,  0.,  0.,  1.,  0.,  1.],\n",
       "       [ 0.,  1.,  0.,  0.,  0.,  1.,  2.],\n",
       "       [-5., -4., -0., -0., -0., -0.,  0.]])"
      ]
     },
     "execution_count": 8,
     "metadata": {},
     "output_type": "execute_result"
    }
   ],
   "source": [
    "# Записываем симплекс-таблицу.\n",
    "table = np.concatenate((np.concatenate((a, b), axis=1), np.concatenate((c * -1, [[0]])).T))\n",
    "table"
   ]
  },
  {
   "cell_type": "markdown",
   "metadata": {},
   "source": [
    "Нижняя строчка - целевая функция, последний столбец - правые части ограничений (обозначим b).\n",
    "Значение целевой функции (z)- это значение в последней строчке и последнем столбце, его нам надо максимизировать.          \n",
    "Целевую функцию, запишем так: z - 5 * x1 - 4 * x2 = 0  \n",
    "(отрицательные коэффициенты, при решении задачи максимизации, получаются из такой формы записи целевой функции).  \n",
    "Матрица коэффициентов (a) - матрица (m-1)x(n-1)  "
   ]
  },
  {
   "cell_type": "markdown",
   "metadata": {},
   "source": [
    "Базисная переменная - столбец, в котором 1 единица, остальные нули.  \n",
    "В данном случае, это x3, x4, x5, x6.(второй, третий, четвертый, пятый столбцы).  \n",
    "Грубо говоря, можно представить, что столбец b это количество ресурсов,   \n",
    "которые у нас есть для производства товара, нижнее значение в столбце - сколько стоит данный товар,   \n",
    "коэффициенты в каждом столбце (не считая коэффициент в целевой функции, последний, в нашем примере) -  \n",
    "сколько каждого ресурса идет на производство товара.\n"
   ]
  },
  {
   "cell_type": "markdown",
   "metadata": {},
   "source": [
    "Берем столбец, в котором коэффициент целевой функции наиболее отрицательный.  \n",
    "Это дает наибольшее увеличение нашей целевой функции."
   ]
  },
  {
   "cell_type": "markdown",
   "metadata": {},
   "source": [
    "В нашем примере, это -5, и первый столбец коэффициентов [6, 1, -1, 0].  \n",
    "Смотрим, каких ресурсов у нас меньше всего, для этого делим b (количество ресурсов) - [24, 6, 1, 2],  \n",
    "на соответствующее значение потребности в ресурсах - коэффициенты в нашем первом столбце ([6, 1, -1, 0]).  \n",
    "Получаем: 26/4, 6/1, 1/(-1), 2/0 -> 4, 6, -1, inf.  \n",
    "    находим наименьший положительный элемент, и выделяем строку, в которой он находится, в нашем случае,  \n",
    "    это 4, и 1-я строка (именно этого ресурса у нас меньше всего, для выпуска наиболее прибыльного товара).  \n",
    "Первый столбец (содержащий -5), у нас становится ведущим столбцом,   \n",
    "первая строка (содержащая 4, минимальный запас ресурсов) - ведущей строкой,   \n",
    "элемент, на пересечении ведущей строки и столбца - ведущим элементом.\n",
    "    \n"
   ]
  },
  {
   "cell_type": "code",
   "execution_count": 9,
   "metadata": {},
   "outputs": [
    {
     "data": {
      "text/plain": [
       "array([1.    , 0.6667, 0.1667, 0.    , 0.    , 0.    , 4.    ])"
      ]
     },
     "execution_count": 9,
     "metadata": {},
     "output_type": "execute_result"
    }
   ],
   "source": [
    "# Далее, выполняем преобразования Гаусса-Жордана.\n",
    "# Ведущую строку, делем на ведущий элемент.\n",
    "main_string = np.around(table[0] / 6, 4); main_string\n"
   ]
  },
  {
   "cell_type": "code",
   "execution_count": 10,
   "metadata": {},
   "outputs": [
    {
     "data": {
      "text/plain": [
       "array([ 0.    ,  1.3333, -0.1667,  1.    ,  0.    ,  0.    ,  2.    ])"
      ]
     },
     "execution_count": 10,
     "metadata": {},
     "output_type": "execute_result"
    }
   ],
   "source": [
    "# во второй строке, в ведущем столбце - стоим значение 1.\n",
    "# Значит вычитаем из второй строке - первую, чтоб вместо 1, получить 0.\n",
    "table[1] - main_string"
   ]
  },
  {
   "cell_type": "code",
   "execution_count": 11,
   "metadata": {},
   "outputs": [
    {
     "data": {
      "text/plain": [
       "array([ 0.    , -0.6665,  0.8335,  0.    ,  0.    ,  0.    , 20.    ])"
      ]
     },
     "execution_count": 11,
     "metadata": {},
     "output_type": "execute_result"
    }
   ],
   "source": [
    "# Делаем такие преобразования для всех строк, включая и строку с целевой функцией.\n",
    "table[-1] - (-5)*main_string"
   ]
  },
  {
   "cell_type": "markdown",
   "metadata": {},
   "source": [
    "Дальше - уже вторая итерация:  \n",
    "Смотрим, какой коэффициент в строке с целевой функцией \"наиболее отрицательный\" и повторяем,  \n",
    "пока все коэффициенты в целевой функции не станут положительными.\n"
   ]
  },
  {
   "cell_type": "markdown",
   "metadata": {},
   "source": [
    "В итоге, получаем результирующую симплекс-таблицу с оптимальным решением,  \n",
    "из которой можем посмотреть и это решение, и значение целевой функции,   \n",
    "а также вычислить еще ряд полезный вещей, коротко рассмотренный в разделе - Анализ чувствительности."
   ]
  },
  {
   "cell_type": "markdown",
   "metadata": {},
   "source": [
    "##### Задача минимизации решается похоже, но, ведущий столбец, выбирается как не базисный,с наибольшим положительным коэффициентом в строке с целевой функцией, а вычисления заканчиваются тогда, когда все коэффициенты в строке с целевой функцией - неположительные."
   ]
  },
  {
   "cell_type": "markdown",
   "metadata": {},
   "source": [
    "### Реализация табличного симплекс-метода, описанного выше, без numpy."
   ]
  },
  {
   "cell_type": "code",
   "execution_count": 12,
   "metadata": {},
   "outputs": [],
   "source": [
    "# min и max - во многом дублируются, но не стал объединять, \n",
    "# т.к. в дальнейшем, будет представлен модифицированный симплекс-метод"
   ]
  },
  {
   "cell_type": "code",
   "execution_count": 13,
   "metadata": {},
   "outputs": [],
   "source": [
    "def coef_from_mass(a, index):\n",
    "    list_coef = []\n",
    "    for item in a:\n",
    "        list_coef.append(item[index])\n",
    "    return list_coef\n",
    "\n",
    "def choice_line(list_liber, list_coef):\n",
    "    list_quotient = []\n",
    "    for item in range(len(list_liber)):\n",
    "        if list_coef[item] <= 0:\n",
    "            list_quotient.append(float('inf'))\n",
    "            continue\n",
    "        list_quotient.append(list_liber[item] / list_coef[item])\n",
    "        \n",
    "    return list_quotient.index(min(list_quotient))\n",
    "\n",
    "\n",
    "\n",
    "def subtr_line(line_one, line_two):\n",
    "    return [line_one[item] - line_two[item] for item in range(len(line_one))]\n",
    "\n",
    "def mult_line_numb(line, number):\n",
    "    return [line[item] * number for item in range(len(line))]\n",
    "\n",
    "def test_top_border(list_coef):# проверить - столбец коэффициентов проверяется или столбец свободных членов\n",
    "    pozitive_list= [x for x in list_coef if x >= 0]\n",
    "    if not pozitive_list:\n",
    "        return True\n",
    "    \n",
    "def test_bottom_border(list_coef):# проверить - столбец коэффициентов проверяется или столбец свободных членов\n",
    "    pozitive_list= [x for x in list_coef if x > 0]\n",
    "    if not pozitive_list:\n",
    "        return True"
   ]
  },
  {
   "cell_type": "code",
   "execution_count": 14,
   "metadata": {},
   "outputs": [],
   "source": [
    "def simplex(a):    \n",
    "    min_coef = min(a[-1])\n",
    "    if min_coef >= 0:\n",
    "        print('Исходный опорный план является оптимальным')\n",
    "        return 1\n",
    "    count = 0 # защита от зацикливания\n",
    "    while (min_coef < 0): \n",
    "        if count > 100:\n",
    "            print('Зацикливание вычислений')\n",
    "            return 1\n",
    "        min_index = a[-1].index(min_coef)\n",
    "        list_coef = coef_from_mass(a[:-1], min_index)\n",
    "        if test_top_border(list_coef):\n",
    "            print('Верхняя граница области допустимых решений на существует')\n",
    "            return 1\n",
    "        \n",
    "        list_liber = coef_from_mass(a[:-1], len(a[0])-1)\n",
    "        current_line = choice_line(list_liber, list_coef)\n",
    "\n",
    "        min_value = a[current_line][min_index]\n",
    "        for item in range(len(a[current_line])):\n",
    "            a[current_line][item] = a[current_line][item] / min_value\n",
    "\n",
    "        number_for_div = []\n",
    "        for item_line in a:\n",
    "            number_for_div.append(item_line[min_index] / a[current_line][min_index])\n",
    "\n",
    "\n",
    "        for item in range(len(number_for_div)):\n",
    "            if item == current_line:\n",
    "                continue\n",
    "            a[item] = subtr_line(a[item], mult_line_numb(a[current_line], number_for_div[item]))\n",
    "        min_coef = min(a[-1])\n",
    "        count += 1\n",
    "            \n",
    "    return a\n"
   ]
  },
  {
   "cell_type": "code",
   "execution_count": 15,
   "metadata": {},
   "outputs": [],
   "source": [
    "def view_simplex_table(a):\n",
    "    table = simplex(a)\n",
    "    if table is not 1:\n",
    "        for item in table:\n",
    "            print(item)\n",
    "        print(f'\\n Прибыль равняется {table[-1][-1]}')"
   ]
  },
  {
   "cell_type": "code",
   "execution_count": 16,
   "metadata": {},
   "outputs": [
    {
     "name": "stdout",
     "output_type": "stream",
     "text": [
      "[1.0, 0.0, 0.24999999999999997, -0.4999999999999999, 0.0, 0.0, 0.0, 3.0]\n",
      "[0.0, 1.0, -0.12499999999999999, 0.7499999999999999, 0.0, 0.0, 0.0, 1.4999999999999998]\n",
      "[0.0, 0.0, 0.37499999999999994, -1.2499999999999998, 0.0, 1.0, 0.0, 2.5000000000000004]\n",
      "[0.0, 0.0, 0.12499999999999999, -0.7499999999999999, 0.0, 0.0, 1.0, 0.5000000000000002]\n",
      "[0.0, 0.0, 0.7499999999999999, 0.5000000000000001, 0.0, 0.0, 0.0, 21.0]\n",
      "\n",
      " Прибыль равняется 21.0\n"
     ]
    }
   ],
   "source": [
    "a =[[6,  4, 1, 0, 0, 0, 0, 24],\n",
    "    [1,  2, 0, 1, 0, 0, 0, 6],\n",
    "    [-1,  1, 0, 0, 0, 1, 0, 1],\n",
    "    [0,  1, 0, 0, 0, 0, 1, 2],\n",
    "    [-5, -4, 0, 0, 0, 0, 0, 0]]\n",
    "view_simplex_table(a)"
   ]
  },
  {
   "cell_type": "code",
   "execution_count": 17,
   "metadata": {},
   "outputs": [],
   "source": [
    "def simplex_min(a):    \n",
    "    max_coef = max(a[-1])\n",
    "    if max_coef <= 0:\n",
    "        print('Исходный опорный план является оптимальным')\n",
    "        return 1\n",
    "    count = 0 # защита от зацикливания\n",
    "    while (max_coef > 0): \n",
    "        if count > 100:\n",
    "            print('Зацикливание вычислений')\n",
    "            return 1\n",
    "        max_index = a[-1].index(max_coef)\n",
    "        list_coef = coef_from_mass(a[:-1], max_index)\n",
    "        if test_bottom_border(list_coef):\n",
    "            print('Нижняя граница области допустимых решений на существует')\n",
    "            return 1\n",
    "        \n",
    "        list_liber = coef_from_mass(a[:-1], len(a[0])-1)\n",
    "        current_line = choice_line(list_liber, list_coef)\n",
    "\n",
    "        max_value = a[current_line][max_index]\n",
    "        for item in range(len(a[current_line])):\n",
    "            a[current_line][item] = a[current_line][item] / max_value\n",
    "\n",
    "        number_for_div = []\n",
    "        for item_line in a:\n",
    "            number_for_div.append(item_line[max_index] / a[current_line][max_index])\n",
    "\n",
    "\n",
    "        for item in range(len(number_for_div)):\n",
    "            if item == current_line:\n",
    "                continue\n",
    "            a[item] = subtr_line(a[item], mult_line_numb(a[current_line], number_for_div[item]))\n",
    "        max_coef = max(a[-1])\n",
    "        count += 1\n",
    "            \n",
    "    return a"
   ]
  },
  {
   "cell_type": "code",
   "execution_count": 18,
   "metadata": {},
   "outputs": [
    {
     "name": "stdout",
     "output_type": "stream",
     "text": [
      "[0.0, 1.0, -0.3333333333333333, 0.3333333333333333, -0.16666666666666666, 0.0, 0.0, 0.6666666666666667]\n",
      "[1.0, 0.0, 2.0, 0.0, 0.5, 0.0, 0.0, 1.0]\n",
      "[0.0, 0.0, -1.3333333333333335, -0.6666666666666666, -0.16666666666666669, 1.0, 0.0, 2.6666666666666665]\n",
      "[0.0, 0.0, -286.6666666666667, -153.33333333333331, -138.33333333333334, 0.0, 0.0, -736.6666666666667]\n"
     ]
    }
   ],
   "source": [
    "a =[[ 1,  3,  1, 1, 0, 0, 0, 3],\n",
    "    [ 2,   0,  4,  0, 1, 0, 0, 2],\n",
    "    [ 1,   2,   0,  0, 0, 1, 0, 5],\n",
    "    [ 430,460, 420,  0, 0, 0, 0, 0]]\n",
    "for i in simplex_min(a):\n",
    "    print(i)"
   ]
  },
  {
   "cell_type": "markdown",
   "metadata": {},
   "source": [
    "## Модифицированный симплекс-метод. Реализация."
   ]
  },
  {
   "cell_type": "code",
   "execution_count": 19,
   "metadata": {},
   "outputs": [],
   "source": [
    "# ограничения\n",
    "# 6 * x1 + 4 * x2 <= 24;  \n",
    "# x1 + 2 * x2 <= 6  \n",
    "# -x1 + x2 <= 1  \n",
    "# x2 <= 2  \n",
    "# x1 >= 0  \n",
    "# x2 >= 0\n",
    "# целевая функция\n",
    "# z = 5 * x1 + 4 * x2  "
   ]
  },
  {
   "cell_type": "code",
   "execution_count": 20,
   "metadata": {},
   "outputs": [],
   "source": [
    "a = np.array([[ 6,  4, 1, 0, 0, 0],\n",
    "              [ 1,  2, 0, 1, 0, 0],\n",
    "              [-1,  1, 0, 0, 1, 0],\n",
    "              [ 0,  1, 0, 0, 0, 1]], dtype=float)\n",
    "b = np.array([[24], [6], [1], [2]], dtype=float)\n",
    "c = np.array([[5], [4], [0], [0], [0], [0]], dtype=float)"
   ]
  },
  {
   "cell_type": "markdown",
   "metadata": {},
   "source": [
    "### симплекс-таблица выглядит так:"
   ]
  },
  {
   "cell_type": "code",
   "execution_count": 21,
   "metadata": {},
   "outputs": [
    {
     "data": {
      "text/plain": [
       "array([[ 6.,  4.,  1.,  0.,  0.,  0., 24.],\n",
       "       [ 1.,  2.,  0.,  1.,  0.,  0.,  6.],\n",
       "       [-1.,  1.,  0.,  0.,  1.,  0.,  1.],\n",
       "       [ 0.,  1.,  0.,  0.,  0.,  1.,  2.],\n",
       "       [ 5.,  4.,  0.,  0.,  0.,  0.,  0.]])"
      ]
     },
     "execution_count": 21,
     "metadata": {},
     "output_type": "execute_result"
    }
   ],
   "source": [
    "np.concatenate((np.concatenate((a, b), axis=1), np.concatenate((c, [[0]])).T))"
   ]
  },
  {
   "cell_type": "markdown",
   "metadata": {},
   "source": [
    "### Берется начальное допустимое  решение:\n",
    "#### в данном случае, все ограничения имеют вид <=, поэтому начальное допустимое решение будет иметь вид:"
   ]
  },
  {
   "cell_type": "code",
   "execution_count": 22,
   "metadata": {},
   "outputs": [
    {
     "data": {
      "text/plain": [
       "array([[1., 0., 0., 0.],\n",
       "       [0., 1., 0., 0.],\n",
       "       [0., 0., 1., 0.],\n",
       "       [0., 0., 0., 1.]])"
      ]
     },
     "execution_count": 22,
     "metadata": {},
     "output_type": "execute_result"
    }
   ],
   "source": [
    "np.eye(4)"
   ]
  },
  {
   "cell_type": "markdown",
   "metadata": {},
   "source": [
    " Если ограничения имеют вид >=, или == , необходимо найти искусственное начальное решение.\n",
    " Это можно сделать либо с помощью М-метода, либо двухэтапным методом.  \n",
    "   \n",
    " В двухэтапном методе, исключены ошибки округления, присущие М-методу:  \n",
    "      \n",
    " На первом этапе, для поиска базового решение, минимизируется функция r = R1 + R2 ...,     \n",
    " где Rx - коэффициенты, при дополнительных переменных, добавляемых при переходе от ограничений в форме == и >=,  \n",
    " к канонической форме записи задачи линейного программирования."
   ]
  },
  {
   "cell_type": "markdown",
   "metadata": {},
   "source": [
    "#### Возьмем базисные столбцы из матрицы коэффициентов, сохраним номера столбцов базиса в массиве NB, \n",
    "#### номера столбцов с свободными членами в массиве NF"
   ]
  },
  {
   "cell_type": "code",
   "execution_count": 23,
   "metadata": {},
   "outputs": [],
   "source": [
    "# начальное допустимое базмсное решение известно \n",
    "# демонстрирубтся столбцы, которые мы берем в качестве базисных\n",
    "def take_base(a):    \n",
    "    ind = []\n",
    "    count = 0\n",
    "    for item in a.T:\n",
    "        temp = np.unique(item)\n",
    "        if ((np.any(temp == 0) and np.any(temp == 1)) and temp.sum() == 1):\n",
    "            ind.append(count)\n",
    "        count += 1\n",
    "    return np.array(ind)  "
   ]
  },
  {
   "cell_type": "code",
   "execution_count": 24,
   "metadata": {},
   "outputs": [
    {
     "data": {
      "text/plain": [
       "array([2, 3, 4, 5])"
      ]
     },
     "execution_count": 24,
     "metadata": {},
     "output_type": "execute_result"
    }
   ],
   "source": [
    "NB = take_base(a); NB"
   ]
  },
  {
   "cell_type": "code",
   "execution_count": 25,
   "metadata": {},
   "outputs": [
    {
     "data": {
      "text/plain": [
       "True"
      ]
     },
     "execution_count": 25,
     "metadata": {},
     "output_type": "execute_result"
    }
   ],
   "source": [
    "a.shape[0] == NB.shape[0]"
   ]
  },
  {
   "cell_type": "code",
   "execution_count": 26,
   "metadata": {},
   "outputs": [],
   "source": [
    "def take_free(a, NB):\n",
    "    temp = set(NB)\n",
    "    NF = []\n",
    "    for item in range(a.shape[1]):\n",
    "        if item not in temp:\n",
    "            NF.append(item)\n",
    "    return np.array(NF)"
   ]
  },
  {
   "cell_type": "code",
   "execution_count": 27,
   "metadata": {},
   "outputs": [
    {
     "data": {
      "text/plain": [
       "array([0, 1])"
      ]
     },
     "execution_count": 27,
     "metadata": {},
     "output_type": "execute_result"
    }
   ],
   "source": [
    "NF = take_free(a, NB); NF"
   ]
  },
  {
   "cell_type": "code",
   "execution_count": 28,
   "metadata": {},
   "outputs": [],
   "source": [
    "def test_optima(row, minimax):\n",
    "    if minimax == 'max':\n",
    "        if np.all(row >= 0):\n",
    "            print('Достигнуто оптимальное решение.')\n",
    "            return -1\n",
    "        else:\n",
    "            return row.argmin()\n",
    "    elif minimax == 'min':\n",
    "        if np.all(row <= 0):\n",
    "            print('Достигнуто оптимальное решение.')\n",
    "            return -1\n",
    "        else:\n",
    "            return row.argmax()\n",
    "    else:\n",
    "        print(\"Не введен тип задачи: минимизация или максимизация.\")\n",
    "        return -1\n",
    "    \n",
    "    \n",
    "def choice_line(list_liber, list_coef):\n",
    "    list_quotient = []\n",
    "    for item in range(len(list_liber[0])):\n",
    "        if list_coef[item] <= 0:\n",
    "            list_quotient.append(float('inf'))\n",
    "            continue\n",
    "        list_quotient.append(list_liber[0][item] / list_coef[item])\n",
    "    return list_quotient.index(min(list_quotient))\n",
    "\n",
    "def test_not_border(a):\n",
    "    return np.all(a <= 0)\n",
    "\n",
    "def mod_simplex(a, b, c, NB, NF, minimax='max'):\n",
    "    while True:\n",
    "        B_inv = np.linalg.inv(a[:, NB])\n",
    "        xb = B_inv.dot(b)\n",
    "        z = c[NB].T.dot(xb)\n",
    "        row = (c[NB].T.dot(B_inv).dot(a[:, NF]) - c[NF].T).T\n",
    "        col = test_optima(row, minimax)\n",
    "        if col == -1:\n",
    "            print('Значение целевой функции -', z)\n",
    "            print('xb -', xb.T)  \n",
    "            print('Simplex-table:')\n",
    "            simplex_table = np.concatenate((np.concatenate((B_inv.dot(a), \\\n",
    "                c[NB].T.dot(B_inv.dot(a)) - c.T)), np.concatenate((xb, z))), axis=1)\n",
    "            print(np.around(simplex_table, 4))   \n",
    "        \n",
    "            xx = [item for item in range(len(xb)) if item not in NF]\n",
    "            print('x -', xb[np.around(B_inv.dot(a)[:, xx]).argmax(axis=0)].T)\n",
    "            return \n",
    "        if test_not_border(a[:, col]):\n",
    "            print('Задача не имеет ограниченного решения.')\n",
    "            return\n",
    "        line = choice_line(xb.T, B_inv.dot(a[:, col]))\n",
    "        NF[col], NB[line] = NB[line], NF[col]\n"
   ]
  },
  {
   "cell_type": "code",
   "execution_count": 29,
   "metadata": {},
   "outputs": [
    {
     "name": "stdout",
     "output_type": "stream",
     "text": [
      "Достигнуто оптимальное решение.\n",
      "Значение целевой функции - [[21.]]\n",
      "xb - [[3.  1.5 2.5 0.5]]\n",
      "Simplex-table:\n",
      "[[ 1.     0.     0.25  -0.5    0.     0.     3.   ]\n",
      " [-0.     1.    -0.125  0.75   0.     0.     1.5  ]\n",
      " [ 0.     0.     0.375 -1.25   1.     0.     2.5  ]\n",
      " [ 0.     0.     0.125 -0.75   0.     1.     0.5  ]\n",
      " [-0.    -0.     0.75   0.5    0.     0.    21.   ]]\n",
      "x - [[3.  1.5]]\n",
      "Время :\n",
      "0.002036571502685547\n"
     ]
    }
   ],
   "source": [
    "start = time.time()\n",
    "mod_simplex(a, b, c, NB, NF, 'max')\n",
    "stop = time.time()\n",
    "print (\"Время :\")\n",
    "print(stop - start)"
   ]
  },
  {
   "cell_type": "markdown",
   "metadata": {},
   "source": [
    "### Сравнение с симплекс-методом, реализованном в библиотеке scipy"
   ]
  },
  {
   "cell_type": "code",
   "execution_count": 30,
   "metadata": {},
   "outputs": [
    {
     "name": "stdout",
     "output_type": "stream",
     "text": [
      "     con: array([], dtype=float64)\n",
      "     fun: -20.999999999684206\n",
      " message: 'Optimization terminated successfully.'\n",
      "     nit: 5\n",
      "   slack: array([0.  , 0.  , 1.25, 0.25])\n",
      "  status: 0\n",
      " success: True\n",
      "       x: array([3.  , 1.5 , 0.  , 0.  , 1.25, 0.25])\n",
      "Время :\n",
      "0.0041081905364990234\n"
     ]
    }
   ],
   "source": [
    "from scipy.optimize import linprog\n",
    "start = time.time()\n",
    "c = c * -1  #Функция цели\n",
    "A_ub = a  # коэффициенты ограничений  \n",
    "b_ub = b #   правая часть ограничений\n",
    "\n",
    "print (linprog(c, A_ub, b_ub))\n",
    "stop = time.time()\n",
    "print (\"Время :\")\n",
    "print(stop - start)"
   ]
  },
  {
   "cell_type": "markdown",
   "metadata": {},
   "source": [
    "Модифицированный симплекс-метод выполняет точно такие же этапы, \n",
    "как и обычный табличный метод, но в модифицированном симплекс-методе, используются матричные вычисления.\n",
    "За счет этого, повышается точность вычисления элементов обратной матрицы (B_inv), \n",
    "и уменьшается проблема появления ошибок машинного округления при операциях над строками. \n",
    "    Модифицированный симплекс-метод, имеет 2 главные проблемы:\n",
    "        - вычислительная точность(числовая стабильность),\n",
    "         - скорость выполнения расчетов.\n",
    "Вычисление обратной матрицы - повышает точность вычислений, но, одновременно, замедляет вычисления."
   ]
  },
  {
   "cell_type": "markdown",
   "metadata": {},
   "source": [
    "В модифицированном симплекс методе, используются два разных метода получения обратной матрицы (B_inv):\n",
    "    - Мультипликативное представление обратной матрицы.\n",
    "    - Метод LU - разложения.\n"
   ]
  },
  {
   "cell_type": "code",
   "execution_count": 31,
   "metadata": {},
   "outputs": [],
   "source": [
    "# еще пример:\n",
    "a = np.array([[1,  2, 1, 1, 0, 0],\n",
    "              [3,  0, 2, 0, 1, 0],\n",
    "              [1,  4, 0, 0, 0, 1]])\n",
    "b = np.array([[430], [460], [420]])\n",
    "c = np.array([[3], [2], [5], [0], [0], [0]])"
   ]
  },
  {
   "cell_type": "code",
   "execution_count": 32,
   "metadata": {},
   "outputs": [
    {
     "data": {
      "text/plain": [
       "array([[  1,   2,   1,   1,   0,   0, 430],\n",
       "       [  3,   0,   2,   0,   1,   0, 460],\n",
       "       [  1,   4,   0,   0,   0,   1, 420],\n",
       "       [  3,   2,   5,   0,   0,   0,   0]])"
      ]
     },
     "execution_count": 32,
     "metadata": {},
     "output_type": "execute_result"
    }
   ],
   "source": [
    "np.concatenate((np.concatenate((a, b), axis=1), np.concatenate((c, [[0]])).T))"
   ]
  },
  {
   "cell_type": "code",
   "execution_count": 33,
   "metadata": {},
   "outputs": [
    {
     "data": {
      "text/plain": [
       "array([3, 4, 5])"
      ]
     },
     "execution_count": 33,
     "metadata": {},
     "output_type": "execute_result"
    }
   ],
   "source": [
    "NB = take_base(a); NB"
   ]
  },
  {
   "cell_type": "code",
   "execution_count": 34,
   "metadata": {},
   "outputs": [
    {
     "data": {
      "text/plain": [
       "array([0, 1, 2])"
      ]
     },
     "execution_count": 34,
     "metadata": {},
     "output_type": "execute_result"
    }
   ],
   "source": [
    "NF = take_free(a, NB); NF"
   ]
  },
  {
   "cell_type": "code",
   "execution_count": 35,
   "metadata": {},
   "outputs": [
    {
     "name": "stdout",
     "output_type": "stream",
     "text": [
      "Достигнуто оптимальное решение.\n",
      "Значение целевой функции - [[1350.]]\n",
      "xb - [[100. 230.  20.]]\n",
      "Simplex-table:\n",
      "[[  -0.25    1.      0.      0.5    -0.25    0.    100.  ]\n",
      " [   1.5     0.      1.      0.      0.5     0.    230.  ]\n",
      " [   2.      0.      0.     -2.      1.      1.     20.  ]\n",
      " [   4.      0.      0.      1.      2.      0.   1350.  ]]\n",
      "x - [[100. 230.]]\n"
     ]
    }
   ],
   "source": [
    "mod_simplex(a, b, c, NB, NF, 'max')"
   ]
  },
  {
   "cell_type": "code",
   "execution_count": 36,
   "metadata": {},
   "outputs": [
    {
     "name": "stdout",
     "output_type": "stream",
     "text": [
      "     con: array([], dtype=float64)\n",
      "     fun: -1349.9999984048386\n",
      " message: 'Optimization terminated successfully.'\n",
      "     nit: 6\n",
      "   slack: array([ 0.00000048,  0.00000049, 10.00000048])\n",
      "  status: 0\n",
      " success: True\n",
      "       x: array([  0.00000001,  99.99999987, 229.99999973,   0.00000005,\n",
      "         0.00000002,  10.00000005])\n"
     ]
    }
   ],
   "source": [
    "c = c * -1 \n",
    "A_ub = a\n",
    "b_ub = b \n",
    "print (linprog(c, A_ub, b_ub))"
   ]
  },
  {
   "cell_type": "markdown",
   "metadata": {},
   "source": [
    "### Минимум"
   ]
  },
  {
   "cell_type": "code",
   "execution_count": 37,
   "metadata": {},
   "outputs": [],
   "source": [
    "a = np.array([[ 1,   3,  1,  1, 0, 0],\n",
    "              [ 2,   0,  4,  0, 1, 0],\n",
    "              [ 1,   2,  0,  0, 0, 1]])\n",
    "b = np.array([[3], [2], [5]])\n",
    "c = np.array([[-430], [-460], [-420], [0], [0], [0]])"
   ]
  },
  {
   "cell_type": "code",
   "execution_count": 38,
   "metadata": {},
   "outputs": [],
   "source": [
    "NB = np.array([3, 4, 5])\n",
    "NF = np.array([0, 1, 2])"
   ]
  },
  {
   "cell_type": "code",
   "execution_count": 39,
   "metadata": {},
   "outputs": [
    {
     "name": "stdout",
     "output_type": "stream",
     "text": [
      "Достигнуто оптимальное решение.\n",
      "Значение целевой функции - [[-736.66666667]]\n",
      "xb - [[0.66666667 1.         2.66666667]]\n",
      "Simplex-table:\n",
      "[[   0.        1.       -0.3333    0.3333   -0.1667    0.        0.6667]\n",
      " [   1.        0.        2.        0.        0.5       0.        1.    ]\n",
      " [   0.        0.       -1.3333   -0.6667   -0.1667    1.        2.6667]\n",
      " [   0.        0.     -286.6667 -153.3333 -138.3333    0.     -736.6667]]\n",
      "x - [[1.         0.66666667]]\n"
     ]
    }
   ],
   "source": [
    "mod_simplex(a, b, c, NB, NF, 'min')"
   ]
  },
  {
   "cell_type": "markdown",
   "metadata": {},
   "source": [
    "## Двухэтапный метод (введение искусственных переменных)\n",
    "#### Первый этап двухэтапного метода\n",
    "r = R1 + R2  -> min"
   ]
  },
  {
   "cell_type": "code",
   "execution_count": 40,
   "metadata": {},
   "outputs": [],
   "source": [
    "a = np.array([[ 3,   1,   0,  1, 0, 0],\n",
    "              [ 4,   3,  -1,  0, 1, 0],\n",
    "              [ 1,   2,   0,  0, 0, 1]])\n",
    "b = np.array([[3], [6], [4]])\n",
    "c = np.array([[0], [0], [0], [1], [1], [0]])"
   ]
  },
  {
   "cell_type": "code",
   "execution_count": 41,
   "metadata": {},
   "outputs": [
    {
     "data": {
      "text/plain": [
       "array([3, 4, 5])"
      ]
     },
     "execution_count": 41,
     "metadata": {},
     "output_type": "execute_result"
    }
   ],
   "source": [
    "NB = take_base(a); NB"
   ]
  },
  {
   "cell_type": "code",
   "execution_count": 42,
   "metadata": {},
   "outputs": [
    {
     "data": {
      "text/plain": [
       "array([0, 1, 2])"
      ]
     },
     "execution_count": 42,
     "metadata": {},
     "output_type": "execute_result"
    }
   ],
   "source": [
    "NF = take_free(a, NB); NF"
   ]
  },
  {
   "cell_type": "code",
   "execution_count": 43,
   "metadata": {},
   "outputs": [
    {
     "name": "stdout",
     "output_type": "stream",
     "text": [
      "Достигнуто оптимальное решение.\n",
      "Значение целевой функции - [[0.]]\n",
      "xb - [[0.6 1.2 1. ]]\n",
      "Simplex-table:\n",
      "[[ 1.  -0.   0.2  0.6 -0.2  0.   0.6]\n",
      " [ 0.   1.  -0.6 -0.8  0.6  0.   1.2]\n",
      " [ 0.   0.   1.   1.  -1.   1.   1. ]\n",
      " [ 0.   0.   0.  -1.  -1.   0.   0. ]]\n",
      "x - [[0.6 1.2]]\n"
     ]
    }
   ],
   "source": [
    "mod_simplex(a, b, c, NB, NF, 'min')"
   ]
  },
  {
   "cell_type": "markdown",
   "metadata": {},
   "source": [
    "#### Второй этап двухэтапного метода"
   ]
  },
  {
   "cell_type": "code",
   "execution_count": 44,
   "metadata": {},
   "outputs": [],
   "source": [
    "a = np.array([[ 1,   0,   0.2,  0],\n",
    "              [ 0,   1,  -0.6,  0],\n",
    "              [ 0,   0,   1,    1]])\n",
    "b = np.array([[0.6], [1.2], [1]])\n",
    "c = np.array([[-4], [-1], [0], [0]])"
   ]
  },
  {
   "cell_type": "code",
   "execution_count": 45,
   "metadata": {},
   "outputs": [
    {
     "data": {
      "text/plain": [
       "array([0, 1, 3])"
      ]
     },
     "execution_count": 45,
     "metadata": {},
     "output_type": "execute_result"
    }
   ],
   "source": [
    "NB = take_base(a); NB"
   ]
  },
  {
   "cell_type": "code",
   "execution_count": 46,
   "metadata": {},
   "outputs": [
    {
     "data": {
      "text/plain": [
       "array([2])"
      ]
     },
     "execution_count": 46,
     "metadata": {},
     "output_type": "execute_result"
    }
   ],
   "source": [
    "NF = take_free(a, NB); NF"
   ]
  },
  {
   "cell_type": "code",
   "execution_count": 47,
   "metadata": {},
   "outputs": [
    {
     "name": "stdout",
     "output_type": "stream",
     "text": [
      "Достигнуто оптимальное решение.\n",
      "Значение целевой функции - [[-3.6]]\n",
      "xb - [[0.6 1.2 1. ]]\n",
      "Simplex-table:\n",
      "[[ 1.   0.   0.2  0.   0.6]\n",
      " [ 0.   1.  -0.6  0.   1.2]\n",
      " [ 0.   0.   1.   1.   1. ]\n",
      " [ 0.   0.  -0.2  0.  -3.6]]\n",
      "x - [[0.6 1.2]]\n"
     ]
    }
   ],
   "source": [
    "mod_simplex(a, b, c, NB, NF, 'min')"
   ]
  },
  {
   "cell_type": "markdown",
   "metadata": {},
   "source": [
    "## Анализ чувствительности"
   ]
  },
  {
   "cell_type": "markdown",
   "metadata": {},
   "source": [
    "Влияние изменений параметров модели на полученное оптимальное решение задачи линейного программирования."
   ]
  },
  {
   "cell_type": "markdown",
   "metadata": {},
   "source": [
    "##### Изменение значений констант в правой части неравенств ограничений (чувствительность к изменению доступности ресурсов)"
   ]
  },
  {
   "cell_type": "markdown",
   "metadata": {},
   "source": [
    "##### Максимизировать\n",
    "z = 30*x1 + 20*x2\n",
    "##### Ограничения\n",
    "2 * x1 + x2 <= 8; Условие №1  \n",
    "x1 + 3 * x2 <= 8; Условие №2  \n",
    "x1 >= 0; x2 >= 0"
   ]
  },
  {
   "cell_type": "code",
   "execution_count": 48,
   "metadata": {},
   "outputs": [
    {
     "data": {
      "text/plain": [
       "[<matplotlib.lines.Line2D at 0x7f9a440c0dd8>]"
      ]
     },
     "execution_count": 48,
     "metadata": {},
     "output_type": "execute_result"
    },
    {
     "data": {
      "image/png": "[encoded data removed]",
      "text/plain": [
       "<Figure size 720x576 with 1 Axes>"
      ]
     },
     "metadata": {
      "needs_background": "light"
     },
     "output_type": "display_data"
    }
   ],
   "source": [
    "axes = plt.gca() \n",
    "axes.set_xlim([0, 9]) \n",
    "axes.set_ylim([0, 9]) \n",
    "axes.set_xlabel('X1')\n",
    "axes.set_ylabel('X2')\n",
    "fig = plt.gcf()\n",
    "fig.set_size_inches(10, 8)\n",
    "\n",
    "x = np.arange(0, 9, 1)\n",
    "y1 = 8 - 2 * x\n",
    "plt.plot(x, y1, c='g')\n",
    "y2 = (8 - x) / 3\n",
    "plt.plot(x, y2, c='g')\n",
    "xx = [0, 3.2, 4]\n",
    "yy = [8/3, 1.6, 0]\n",
    "plt.fill_between(xx, yy, color='grey')\n",
    "y3 = 9 - 2 * x\n",
    "plt.plot(x, y3, 'r--')\n",
    "y4 =12 - 2 * x\n",
    "plt.plot(x, y4, 'r--')\n"
   ]
  },
  {
   "cell_type": "code",
   "execution_count": 49,
   "metadata": {},
   "outputs": [],
   "source": [
    "# изменение ограничения: 2 * x1 + x2 <= 8;   Целевая функция = 128; Изменение условия № 1 стоит 14 ед..\n",
    "# 2 * x1 + x2 <= 9; Целевая функция = 142;\n",
    "# 2 * x1 + x2 <= 12; Целевая функция  = 184;"
   ]
  },
  {
   "cell_type": "markdown",
   "metadata": {},
   "source": [
    "Информацию для определения двойственной цены(стоимости единицы ресурса) и интервал ее допустимости можно получить из симплекс таблицы.\n",
    "\n",
    "z = 30*x1 + 20*x2\n",
    "\n",
    "2 * x1 + x2 <= 8 + D1   \n",
    "x1 + 3 * x2 <= 8 + D2   \n",
    "x1 >= 0; x2 >= 0  \n",
    "\n",
    "D1 и D2 совпадают с векторами  x3, x4  \n",
    "Получаем  систему уравнений  \n",
    "x1 = 3.2 + 0.6 * D1 - 0.2 * D2  \n",
    "x2 = 1.6 - 0.2 * D2 + 0.4 * D2  \n",
    "z = 128 + 14 * D1 + 2 * D2  \n",
    "\n",
    "из которой рассчитываются двойственные цены и интервалы допустимости"
   ]
  },
  {
   "cell_type": "markdown",
   "metadata": {},
   "source": [
    "##### Изменение коэффициентов целевой  функции (чувствительность к изменению уровня затрат и доходов)"
   ]
  },
  {
   "cell_type": "code",
   "execution_count": 50,
   "metadata": {},
   "outputs": [
    {
     "data": {
      "text/plain": [
       "<matplotlib.patches.FancyArrow at 0x7f9a44047c50>"
      ]
     },
     "execution_count": 50,
     "metadata": {},
     "output_type": "execute_result"
    },
    {
     "data": {
      "image/png": "[encoded data removed]",
      "text/plain": [
       "<Figure size 720x576 with 1 Axes>"
      ]
     },
     "metadata": {
      "needs_background": "light"
     },
     "output_type": "display_data"
    }
   ],
   "source": [
    "axes = plt.gca() \n",
    "axes.set_xlim([0, 9]) \n",
    "axes.set_ylim([0, 9]) \n",
    "axes.set_xlabel('X1')\n",
    "axes.set_ylabel('X2')\n",
    "fig = plt.gcf()\n",
    "fig.set_size_inches(10, 8)\n",
    "\n",
    "x = np.arange(0, 9, 1)\n",
    "y1 = 8 - 2 * x\n",
    "plt.plot(x, y1, c='g')\n",
    "y2 = (8 - x) / 3\n",
    "plt.plot(x, y2, c='g')\n",
    "xx = [0, 3.2, 4]\n",
    "yy = [8/3, 1.6, 0]\n",
    "plt.fill_between(xx, yy, color='grey')\n",
    "y3 = (128 - 30 * x) / 20\n",
    "plt.plot(x, y3, c='r')\n",
    "plt.scatter(3.2, 1.6, s=70, c='r')\n",
    "plt.arrow(1.8, 3, 0.23, 0.25, head_width=0.1, head_length=0.3, color=\"red\")\n",
    "plt.arrow(1.8, 3, -0.40, -0.43, head_width=0.1, head_length=0.3, color=\"red\")"
   ]
  },
  {
   "cell_type": "markdown",
   "metadata": {},
   "source": [
    "Оптимальное значение находится в красной точке. \n",
    "Изменение в уровне затрат и расходов (коэффициентов целевой функции), приводят  к изменению наклона прямой целевой функции (красной линии). Оптимальное решение будет оставаться в красной точке, пока прямая целевой функции будет находится между прямыми ограничений(зелеными)."
   ]
  },
  {
   "cell_type": "markdown",
   "metadata": {},
   "source": [
    "Для определения приведенной стоимости берутся результаты вычисления целевой функции из симплекс таблицы:   \n",
    "z = 128 - 14 * x3 - 2 * x4"
   ]
  },
  {
   "cell_type": "markdown",
   "metadata": {},
   "source": [
    "Определение интервала оптимальности тоже проводится с помощью целевой функции и рассчитанной симплекс-таблицы:  \n",
    "z = (30 + d1) * x1 + (20 + d2) * x2.  \n",
    "Из d1 и d2 и значений симплекс-таблицы составляются условия одновременной оптимальности,   \n",
    "соответствующее небазисным векторам, в данном случае x3, x4. Подробно не буду рассчитывать. Описано в \"Исследование операций\", Хэмди А. Таха, 10-е издание."
   ]
  },
  {
   "cell_type": "markdown",
   "metadata": {},
   "source": [
    "## Особые случаи:"
   ]
  },
  {
   "cell_type": "markdown",
   "metadata": {},
   "source": [
    "### Область допустимых значений не существует."
   ]
  },
  {
   "cell_type": "code",
   "execution_count": 51,
   "metadata": {},
   "outputs": [
    {
     "data": {
      "text/plain": [
       "<matplotlib.patches.FancyArrow at 0x7f9a3bd59da0>"
      ]
     },
     "execution_count": 51,
     "metadata": {},
     "output_type": "execute_result"
    },
    {
     "data": {
      "image/png": "[encoded data removed]",
      "text/plain": [
       "<Figure size 720x576 with 1 Axes>"
      ]
     },
     "metadata": {
      "needs_background": "light"
     },
     "output_type": "display_data"
    }
   ],
   "source": [
    "axes = plt.gca() \n",
    "axes.set_xlim([0, 5]) \n",
    "axes.set_ylim([0, 4]) \n",
    "axes.set_xlabel('X1')\n",
    "axes.set_ylabel('X2')\n",
    "fig = plt.gcf()\n",
    "fig.set_size_inches(10, 8)\n",
    "\n",
    "x = np.arange(0, 6, 1)\n",
    "y1 = 2 - 2 * x\n",
    "plt.plot(x, y1, c='g')\n",
    "y2 = (12 - 3 * x) / 4\n",
    "plt.plot(x, y2, c='g')\n",
    "y3 = (5.5 - 3 * x) /2\n",
    "plt.plot(x, y3, 'r')\n",
    "plt.arrow(2, 1.5, 0.3, 0.4, head_width=0.1, head_length=0.3)\n",
    "plt.arrow(0.6, 0.8, -0.15, -0.1, head_width=0.1, head_length=0.3)"
   ]
  },
  {
   "cell_type": "markdown",
   "metadata": {},
   "source": [
    "Зеленые линии - ограничения, красная - целевая функция."
   ]
  },
  {
   "cell_type": "markdown",
   "metadata": {},
   "source": [
    "Такая ситуация не может возникнуть, если все ограничения -'<='  \n",
    "В других случаях, используются искусственные переменные,  \n",
    "и в оптимальном решении будет присутствовать хотя бы одна положительная искусственная переменная.\n",
    "  \n",
    "  Это говорит о том, что задача плохо сформулирована."
   ]
  },
  {
   "cell_type": "markdown",
   "metadata": {},
   "source": [
    "### Вырожденный базис"
   ]
  },
  {
   "cell_type": "markdown",
   "metadata": {},
   "source": [
    "Если встретится некоторое базисное решение, допустимое или нет, \n",
    "в котором хотя бы одна базисная переменная равна нулю - \n",
    "это признак того, что задача вырождена.\n",
    "если 0 встречается в столбце b, и мы выберем в качестве ведущей строки, эту строку(содержащую 0 в b),\n",
    "то значение функции z останется без изменений, и алгоритм может зацикливаться.\n",
    "\n",
    "Для решения этой ситуации используется 1. - метод Данцинга, добавления к правым частям ограничений (столбец b),\n",
    "искусственных малых величин, из-за чего, совпадающие \"вершины\" разводятся.\n",
    "2- с помощью двойственного симплекс-метода."
   ]
  },
  {
   "cell_type": "code",
   "execution_count": 52,
   "metadata": {},
   "outputs": [
    {
     "data": {
      "text/plain": [
       "[<matplotlib.lines.Line2D at 0x7f9a3bcbdba8>]"
      ]
     },
     "execution_count": 52,
     "metadata": {},
     "output_type": "execute_result"
    },
    {
     "data": {
      "image/png": "[encoded data removed]",
      "text/plain": [
       "<Figure size 720x576 with 1 Axes>"
      ]
     },
     "metadata": {
      "needs_background": "light"
     },
     "output_type": "display_data"
    }
   ],
   "source": [
    "axes = plt.gca() \n",
    "axes.set_xlim([0, 7]) \n",
    "axes.set_ylim([0, 4]) \n",
    "axes.set_xlabel('X1')\n",
    "axes.set_ylabel('X2')\n",
    "fig = plt.gcf()\n",
    "fig.set_size_inches(10, 8)\n",
    "\n",
    "x = np.arange(0, 9, 1)\n",
    "y1 = (4 - x) / 2\n",
    "plt.plot(x, y1, c='g')\n",
    "y2 = (8 - x) / 4\n",
    "plt.plot(x, y2, c='g')\n",
    "xx = [0, 4]\n",
    "yy = [2, 0]\n",
    "plt.fill_between(xx, yy, color='grey')\n",
    "plt.scatter(0, 2, s=200, c='r')\n",
    "y3 = (18 - 3 * x) / 9\n",
    "plt.plot(x, y3, 'r--')\n"
   ]
  },
  {
   "cell_type": "code",
   "execution_count": 53,
   "metadata": {},
   "outputs": [],
   "source": [
    "# серая область - область допустимых значений.\n",
    "# Зеленые линии - ограничения\n",
    "# Пунктирная красная линия - целевая функция"
   ]
  },
  {
   "cell_type": "markdown",
   "metadata": {},
   "source": [
    "### Область допустимых решений не ограничена"
   ]
  },
  {
   "cell_type": "code",
   "execution_count": 54,
   "metadata": {},
   "outputs": [
    {
     "data": {
      "text/plain": [
       "[<matplotlib.lines.Line2D at 0x7f9a3bc9eda0>]"
      ]
     },
     "execution_count": 54,
     "metadata": {},
     "output_type": "execute_result"
    },
    {
     "data": {
      "image/png": "[encoded data removed]",
      "text/plain": [
       "<Figure size 720x576 with 1 Axes>"
      ]
     },
     "metadata": {
      "needs_background": "light"
     },
     "output_type": "display_data"
    }
   ],
   "source": [
    "axes = plt.gca() \n",
    "axes.set_xlim([0, 5]) \n",
    "axes.set_ylim([0, 5]) \n",
    "axes.set_xlabel('X1')\n",
    "axes.set_ylabel('X2')\n",
    "fig = plt.gcf()\n",
    "fig.set_size_inches(10, 8)\n",
    "\n",
    "x = np.arange(0, 6, 1)\n",
    "plt.axvline(2, c='g')\n",
    "y1 = (x - 1)\n",
    "plt.plot(x, y1, c='g')\n",
    "xx = [0, 0, 2, 2, 1]\n",
    "yy = [0, 5, 5, 1, 0]\n",
    "plt.fill_between(xx, yy, color='grey')\n",
    "y3 = (18 - 5 * x) / 3\n",
    "plt.plot(x, y3, 'r--')"
   ]
  },
  {
   "cell_type": "code",
   "execution_count": 55,
   "metadata": {},
   "outputs": [],
   "source": [
    "# серая область - область допустимых значений.\n",
    "# Зеленые линии - ограничения\n",
    "# Пунктирная красная линия - целевая функция"
   ]
  },
  {
   "cell_type": "markdown",
   "metadata": {},
   "source": [
    "Это свидетельствует о том, что модель разработана недостаточно корректно.  \n",
    "Пространство допустимых значений не ограничено, по крайней мере, по одному направлению."
   ]
  },
  {
   "cell_type": "markdown",
   "metadata": {},
   "source": [
    "###  Альтернативные  оптимальные решения\n",
    "Тоже возможно зацикливание (зацикливание возможно не только в вырожденных задачах).\n",
    "При одинаковой Z - оптимальное решение будет во всех решениях внутри цикла."
   ]
  },
  {
   "cell_type": "code",
   "execution_count": 56,
   "metadata": {},
   "outputs": [
    {
     "data": {
      "text/plain": [
       "<matplotlib.patches.FancyArrow at 0x7f9a3bc00e10>"
      ]
     },
     "execution_count": 56,
     "metadata": {},
     "output_type": "execute_result"
    },
    {
     "data": {
      "image/png": "[encoded data removed]",
      "text/plain": [
       "<Figure size 720x576 with 1 Axes>"
      ]
     },
     "metadata": {
      "needs_background": "light"
     },
     "output_type": "display_data"
    }
   ],
   "source": [
    "axes = plt.gca() \n",
    "axes.set_xlim([0, 6]) \n",
    "axes.set_ylim([0, 6]) \n",
    "axes.set_xlabel('X1')\n",
    "axes.set_ylabel('X2')\n",
    "fig = plt.gcf()\n",
    "fig.set_size_inches(10, 8)\n",
    "\n",
    "x = np.arange(0, 9, 1)\n",
    "y1 = (5 - x) / 2 \n",
    "plt.plot(x, y1, c='g')\n",
    "y2 = (4 - x)\n",
    "plt.plot(x, y2, c='g')\n",
    "xx = [0, 0, 3, 4]\n",
    "yy = [0, 2.5, 1, 0]\n",
    "plt.fill_between(xx, yy, color='grey')\n",
    "y3 = (11 - 2 * x) / 4\n",
    "plt.plot(x, y3, 'r--')\n",
    "plt.arrow(0, 2.5, 3, -1.5, color='red', width=0.1, head_width=0.1, head_length=0.0)\n",
    "# plt.arrow??"
   ]
  },
  {
   "cell_type": "code",
   "execution_count": 57,
   "metadata": {},
   "outputs": [],
   "source": [
    "# серая область - область допустимых значений.\n",
    "# Зеленые линии - ограничения\n",
    "# Пунктирная красная линия - целевая функция\n",
    "# Толстая красная линия  - множество одинаковых оптимальных решений."
   ]
  },
  {
   "cell_type": "markdown",
   "metadata": {},
   "source": [
    "гиперплоскость(в нашем случае прямая), представляющая целевую функцию,  \n",
    "параллельна соответствующему неравенству,  \n",
    "целевая функция принимает одно и тоже оптимальное значение  \n",
    "на некотором множестве точек границы пространства решений."
   ]
  },
  {
   "cell_type": "markdown",
   "metadata": {},
   "source": [
    "Список использованной литературы:  \n",
    "    1) Хедми А. Таха, \"Исследование операций\", 10-е издание, 2019г.  \n",
    "    2) Вентцель Е.С., \"Исследование операций, задачи, принципы, методология\", 1988г.  \n",
    "    3) И.В.Семушкин, Практикум по методам оптимизации, 2003г.  \n",
    "    4) https://www.intuit.ru/studies/courses/2317/617/info  \"Численные методы\", Борис Бояршинов.  \n",
    "    5) https://www.intuit.ru/studies/courses/676/532/info   \"Теория игр и исследование операций\", Борис Бояршинов   "
   ]
  },
  {
   "cell_type": "code",
   "execution_count": null,
   "metadata": {},
   "outputs": [],
   "source": []
  }
 ],
 "metadata": {
  "kernelspec": {
   "display_name": "Python 3",
   "language": "python",
   "name": "python3"
  },
  "language_info": {
   "codemirror_mode": {
    "name": "ipython",
    "version": 3
   },
   "file_extension": ".py",
   "mimetype": "text/x-python",
   "name": "python",
   "nbconvert_exporter": "python",
   "pygments_lexer": "ipython3",
   "version": "3.7.3"
  }
 },
 "nbformat": 4,
 "nbformat_minor": 2
}
